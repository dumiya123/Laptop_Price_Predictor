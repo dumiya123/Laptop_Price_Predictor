{
 "cells": [
  {
   "cell_type": "code",
   "execution_count": null,
   "id": "034d007a-fa2f-4807-a9f0-a3993ca8caf9",
   "metadata": {},
   "outputs": [],
   "source": [
    "Install Necessary python Libraries"
   ]
  },
  {
   "cell_type": "code",
   "execution_count": 5,
   "id": "ad6250de-6f5a-404e-b404-1e900f96f0b3",
   "metadata": {},
   "outputs": [
    {
     "name": "stdout",
     "output_type": "stream",
     "text": [
      "Requirement already satisfied: numpy in f:\\ml_projects\\laptop_price_predictor\\ml_component\\env\\lib\\site-packages (1.26.4)\n",
      "Requirement already satisfied: pandas in f:\\ml_projects\\laptop_price_predictor\\ml_component\\env\\lib\\site-packages (2.2.1)\n",
      "Requirement already satisfied: numpy<2,>=1.22.4 in f:\\ml_projects\\laptop_price_predictor\\ml_component\\env\\lib\\site-packages (from pandas) (1.26.4)\n",
      "Requirement already satisfied: python-dateutil>=2.8.2 in f:\\ml_projects\\laptop_price_predictor\\ml_component\\env\\lib\\site-packages (from pandas) (2.8.2)\n",
      "Requirement already satisfied: pytz>=2020.1 in f:\\ml_projects\\laptop_price_predictor\\ml_component\\env\\lib\\site-packages (from pandas) (2024.1)\n",
      "Requirement already satisfied: tzdata>=2022.7 in f:\\ml_projects\\laptop_price_predictor\\ml_component\\env\\lib\\site-packages (from pandas) (2024.1)\n",
      "Requirement already satisfied: six>=1.5 in f:\\ml_projects\\laptop_price_predictor\\ml_component\\env\\lib\\site-packages (from python-dateutil>=2.8.2->pandas) (1.16.0)\n"
     ]
    }
   ],
   "source": [
    "!pip install numpy\n",
    "!pip install pandas"
   ]
  },
  {
   "cell_type": "code",
   "execution_count": null,
   "id": "28aa7d88-446b-4beb-a980-c9793093de72",
   "metadata": {},
   "outputs": [],
   "source": [
    "import numpy as np\n",
    "import pandas as pd\n"
   ]
  },
  {
   "cell_type": "code",
   "execution_count": null,
   "id": "e17e2b01-55ae-4849-97b5-18e460a6ce34",
   "metadata": {},
   "outputs": [],
   "source": []
  }
 ],
 "metadata": {
  "kernelspec": {
   "display_name": "Python 3 (ipykernel)",
   "language": "python",
   "name": "python3"
  },
  "language_info": {
   "codemirror_mode": {
    "name": "ipython",
    "version": 3
   },
   "file_extension": ".py",
   "mimetype": "text/x-python",
   "name": "python",
   "nbconvert_exporter": "python",
   "pygments_lexer": "ipython3",
   "version": "3.10.6"
  }
 },
 "nbformat": 4,
 "nbformat_minor": 5
}
